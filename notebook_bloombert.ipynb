{
 "cells": [
  {
   "cell_type": "code",
   "execution_count": 2,
   "metadata": {},
   "outputs": [],
   "source": [
    "%load_ext autoreload\n",
    "%autoreload 2"
   ]
  },
  {
   "cell_type": "code",
   "execution_count": null,
   "metadata": {},
   "outputs": [],
   "source": [
    "import torch\n",
    "from transformers import DistilBertTokenizer\n",
    "from src.dataset.process_data import load_dataset, calculate_class_weights\n",
    "from src.training.train_bloombert import train_model_bloombert\n",
    "from src.helper.plots_helper import plot_training_history\n",
    "\n",
    "# CONFIGURE TORCH\n",
    "torch.cuda.empty_cache()\n",
    "if torch.cuda.is_available():\n",
    "    torch.backends.cudnn.deterministic = True\n",
    "torch.manual_seed(1111)\n",
    "\n",
    "device = torch.device(\"cuda\"  if torch.cuda.is_available() else \"cpu\")\n",
    "print(f'-- Training on: {device}')"
   ]
  },
  {
   "cell_type": "code",
   "execution_count": 4,
   "metadata": {},
   "outputs": [
    {
     "name": "stdout",
     "output_type": "stream",
     "text": [
      "-- Loading dataset\n",
      "Label\n",
      "0    1532\n",
      "1    2348\n",
      "2     671\n",
      "3     560\n",
      "4     634\n",
      "5     430\n",
      "Name: count, dtype: int64\n",
      "tensor([0.6718, 0.4383, 1.5338, 1.8378, 1.6233, 2.3934])\n"
     ]
    }
   ],
   "source": [
    "print(\"-- Loading dataset\")\n",
    "df = load_dataset('data/blooms_dataset.csv', clean=True)\n",
    "df = df.sort_values(by=['Label', 'Text'], ascending=[True, True])\n",
    "df.to_csv('data/blooms_cleaned_dataset.csv', index=False)\n",
    "\n",
    "print(df['Label'].value_counts().sort_index())\n",
    "\n",
    "class_weights = calculate_class_weights(df[\"Label\"].to_numpy()).to(device)\n",
    "print(class_weights)"
   ]
  },
  {
   "cell_type": "code",
   "execution_count": null,
   "metadata": {},
   "outputs": [],
   "source": [
    "tokenizer = DistilBertTokenizer.from_pretrained(\"distilbert-base-uncased\")\n",
    "\n",
    "config = {\n",
    "    \"learning_rate\": 1e-5,\n",
    "    \"batch_size\": 128,\n",
    "    \"epochs\": 50,\n",
    "    \"device\": torch.device(\"cuda\" if torch.cuda.is_available() else \"cpu\")\n",
    "}\n",
    "\n",
    "class_weights = calculate_class_weights(df[\"Label\"].to_numpy()).to(config[\"device\"])\n",
    "\n",
    "best_model, history, best_val_acc = train_model_bloombert(\n",
    "    df,\n",
    "    tokenizer,\n",
    "    config,\n",
    "    class_weights=class_weights,\n",
    "    test_size=0.2,\n",
    "    augment=False\n",
    ")"
   ]
  },
  {
   "cell_type": "code",
   "execution_count": null,
   "metadata": {},
   "outputs": [],
   "source": [
    "plot_training_history(history)"
   ]
  },
  {
   "cell_type": "code",
   "execution_count": null,
   "metadata": {},
   "outputs": [],
   "source": [
    "# save best model\n",
    "torch.save(best_model.state_dict(), \"model/bloombert_model.pt\")"
   ]
  },
  {
   "cell_type": "markdown",
   "metadata": {},
   "source": [
    "# Load trained model"
   ]
  },
  {
   "cell_type": "code",
   "execution_count": 6,
   "metadata": {},
   "outputs": [
    {
     "data": {
      "text/plain": [
       "BloomBERT(\n",
       "  (bert): DistilBertModel(\n",
       "    (embeddings): Embeddings(\n",
       "      (word_embeddings): Embedding(30522, 768, padding_idx=0)\n",
       "      (position_embeddings): Embedding(512, 768)\n",
       "      (LayerNorm): LayerNorm((768,), eps=1e-12, elementwise_affine=True)\n",
       "      (dropout): Dropout(p=0.1, inplace=False)\n",
       "    )\n",
       "    (transformer): Transformer(\n",
       "      (layer): ModuleList(\n",
       "        (0-5): 6 x TransformerBlock(\n",
       "          (attention): DistilBertSdpaAttention(\n",
       "            (dropout): Dropout(p=0.1, inplace=False)\n",
       "            (q_lin): Linear(in_features=768, out_features=768, bias=True)\n",
       "            (k_lin): Linear(in_features=768, out_features=768, bias=True)\n",
       "            (v_lin): Linear(in_features=768, out_features=768, bias=True)\n",
       "            (out_lin): Linear(in_features=768, out_features=768, bias=True)\n",
       "          )\n",
       "          (sa_layer_norm): LayerNorm((768,), eps=1e-12, elementwise_affine=True)\n",
       "          (ffn): FFN(\n",
       "            (dropout): Dropout(p=0.1, inplace=False)\n",
       "            (lin1): Linear(in_features=768, out_features=3072, bias=True)\n",
       "            (lin2): Linear(in_features=3072, out_features=768, bias=True)\n",
       "            (activation): GELUActivation()\n",
       "          )\n",
       "          (output_layer_norm): LayerNorm((768,), eps=1e-12, elementwise_affine=True)\n",
       "        )\n",
       "      )\n",
       "    )\n",
       "  )\n",
       "  (dropout): Dropout(p=0.3, inplace=False)\n",
       "  (attention): Linear(in_features=768, out_features=1, bias=True)\n",
       "  (classifier): Sequential(\n",
       "    (0): Linear(in_features=768, out_features=128, bias=True)\n",
       "    (1): ReLU()\n",
       "    (2): Dropout(p=0.3, inplace=False)\n",
       "    (3): Linear(in_features=128, out_features=6, bias=True)\n",
       "  )\n",
       ")"
      ]
     },
     "execution_count": 6,
     "metadata": {},
     "output_type": "execute_result"
    }
   ],
   "source": [
    "from src.model.bloombert import BloomBERT\n",
    "\n",
    "config = {\n",
    "    # \"learning_rate\": 1e-5,\n",
    "    # \"batch_size\": 128,\n",
    "    # \"epochs\": 50,\n",
    "    \"device\": torch.device(\"cuda\" if torch.cuda.is_available() else \"cpu\")\n",
    "}\n",
    "\n",
    "# load model\n",
    "best_model = BloomBERT(output_dim=6).to(config[\"device\"])\n",
    "best_model.load_state_dict(torch.load(\"model/bloombert_model.pt\", map_location=config[\"device\"]))\n",
    "best_model.eval()"
   ]
  },
  {
   "cell_type": "code",
   "execution_count": 7,
   "metadata": {},
   "outputs": [
    {
     "name": "stdout",
     "output_type": "stream",
     "text": [
      "prob_ge outputs:\n",
      "tensor([[ 3.0434, -1.8520,  0.1674, -0.0178, -0.4197,  0.1016],\n",
      "        [-0.8945, -2.0402,  3.7073, -0.3888, -0.7278, -0.0404],\n",
      "        [-1.5322, -2.0863, -1.1225, -0.2648, -0.8602,  4.0943]])\n",
      "[[ 3.0434 -1.852   0.1674 -0.0178 -0.4197  0.1016]\n",
      " [-0.8945 -2.0402  3.7073 -0.3888 -0.7278 -0.0404]\n",
      " [-1.5322 -2.0863 -1.1225 -0.2648 -0.8602  4.0943]]\n"
     ]
    }
   ],
   "source": [
    "import numpy as np\n",
    "np.set_printoptions(suppress=True, precision=4)\n",
    "\n",
    "texts = [\n",
    "    \"remember the main point of the lesson\",\n",
    "    \"apply the concept to solve a problem\",\n",
    "    \"develop new project ideas\",\n",
    "]\n",
    "\n",
    "tokenizer = DistilBertTokenizer.from_pretrained(\"distilbert-base-uncased\")\n",
    "encodings = tokenizer(texts, truncation=True, padding=True, return_tensors=\"pt\")\n",
    "\n",
    "input_ids = encodings[\"input_ids\"].to(device)\n",
    "attention_mask = encodings[\"attention_mask\"].to(device)\n",
    "\n",
    "best_model.eval()\n",
    "\n",
    "with torch.no_grad():\n",
    "    prob_ge = best_model(input_ids=input_ids, attention_mask=attention_mask)\n",
    "\n",
    "print(\"prob_ge outputs:\")\n",
    "print(prob_ge)\n",
    "\n",
    "prob_ge_np = prob_ge.cpu().numpy()\n",
    "print(prob_ge_np)"
   ]
  },
  {
   "cell_type": "code",
   "execution_count": 8,
   "metadata": {},
   "outputs": [],
   "source": [
    "category_dict = {\n",
    "    0: \"Remember\",\n",
    "    1: \"Understand\",\n",
    "    2: \"Apply\",\n",
    "    3: \"Analyse\",\n",
    "    4: \"Evaluate\",\n",
    "    5: \"Create\"\n",
    "}\n",
    "\n",
    "def predict_blooms(text, model, tokenizer, device):\n",
    "    encodings = tokenizer(text, truncation=True, padding=True, return_tensors=\"pt\")\n",
    "    input_ids = encodings[\"input_ids\"].to(device)\n",
    "    attention_mask = encodings[\"attention_mask\"].to(device)\n",
    "    model.eval()\n",
    "    with torch.no_grad():\n",
    "        outputs = model(input_ids=input_ids, attention_mask=attention_mask)\n",
    "\n",
    "        probs = torch.nn.functional.softmax(outputs, dim=1).cpu().numpy()[0]\n",
    "        pred_class = int(torch.argmax(outputs, dim=1).cpu().numpy()[0])\n",
    "    \n",
    "    return category_dict[pred_class], probs"
   ]
  },
  {
   "cell_type": "code",
   "execution_count": 9,
   "metadata": {},
   "outputs": [
    {
     "name": "stdout",
     "output_type": "stream",
     "text": [
      "Text: Brainstorm a new market strategy to expand in asia\n",
      "Predicted Class: Create\n",
      "Probabilities: [0.0034 0.0028 0.0097 0.0074 0.008  0.9687]\n"
     ]
    }
   ],
   "source": [
    "test_text = \"Brainstorm a new market strategy to expand in asia\"\n",
    "predicted_class, probabilities = predict_blooms(test_text, best_model, tokenizer, config[\"device\"])\n",
    "\n",
    "print(\"Text:\", test_text)\n",
    "print(\"Predicted Class:\", predicted_class)\n",
    "print(\"Probabilities:\", probabilities)"
   ]
  },
  {
   "cell_type": "code",
   "execution_count": null,
   "metadata": {},
   "outputs": [],
   "source": []
  }
 ],
 "metadata": {
  "kernelspec": {
   "display_name": ".venv",
   "language": "python",
   "name": "python3"
  },
  "language_info": {
   "codemirror_mode": {
    "name": "ipython",
    "version": 3
   },
   "file_extension": ".py",
   "mimetype": "text/x-python",
   "name": "python",
   "nbconvert_exporter": "python",
   "pygments_lexer": "ipython3",
   "version": "3.11.5"
  }
 },
 "nbformat": 4,
 "nbformat_minor": 2
}
