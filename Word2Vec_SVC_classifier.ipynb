{
 "cells": [
  {
   "cell_type": "markdown",
   "source": [
    "# Word2Vec-SVC Classifier\n",
    "\n",
    "word2vec by Google and spaCy tokenizer\n",
    "\n",
    "word2vec is an NLP algorithm that uses a neural network to learn associations between words.\n",
    "It is used to convert words tokenised by the spaCy library from the text dataset into word vectors\n",
    "for an SVM. The word vectors for each set of tokens are averaged to generate a sentence\n",
    "vector that is fed into the classification model."
   ],
   "metadata": {
    "collapsed": false,
    "pycharm": {
     "name": "#%% md\n"
    }
   }
  },
  {
   "cell_type": "markdown",
   "source": [
    "## Data Processing"
   ],
   "metadata": {
    "collapsed": false,
    "pycharm": {
     "name": "#%% md\n"
    }
   }
  },
  {
   "cell_type": "code",
   "execution_count": 1,
   "outputs": [],
   "source": [
    "import gensim.downloader as api\n",
    "\n",
    "word_vect = api.load('word2vec-google-news-300')"
   ],
   "metadata": {
    "collapsed": false,
    "pycharm": {
     "name": "#%%\n"
    }
   }
  },
  {
   "cell_type": "code",
   "execution_count": 2,
   "outputs": [],
   "source": [
    "import spacy\n",
    "\n",
    "nlp = spacy.load('en_core_web_md')"
   ],
   "metadata": {
    "collapsed": false,
    "pycharm": {
     "name": "#%%\n"
    }
   }
  },
  {
   "cell_type": "code",
   "execution_count": 3,
   "outputs": [],
   "source": [
    "# tokenises a sentence using spacy library\n",
    "def spacy_tokenizer(text):\n",
    "    doc = nlp(text)\n",
    "\n",
    "    # lemmatise tokens\n",
    "    tokens = [word.lemma_.strip() for word in doc]\n",
    "\n",
    "    return tokens"
   ],
   "metadata": {
    "collapsed": false,
    "pycharm": {
     "name": "#%%\n"
    }
   }
  },
  {
   "cell_type": "code",
   "execution_count": 4,
   "outputs": [],
   "source": [
    "import numpy as np\n",
    "\n",
    "# takes a tokenized sentence input from spacy and takes average of all word vectors\n",
    "def sentence_vect(tokens):\n",
    "    # word2vec output size (300 for word2vec-google-news-300)\n",
    "    size = word_vect.vector_size\n",
    "\n",
    "    # create a vector of zeroes\n",
    "    sent_vect = np.zeros(size)\n",
    "\n",
    "    # get average of all word vectors of each token\n",
    "    counter = 0\n",
    "    for word in tokens:\n",
    "        if word in word_vect:\n",
    "            sent_vect += word_vect[word]\n",
    "            counter += 1\n",
    "\n",
    "    if counter == 0:\n",
    "        return None\n",
    "\n",
    "    sent_vect = sent_vect / counter\n",
    "    return sent_vect"
   ],
   "metadata": {
    "collapsed": false,
    "pycharm": {
     "name": "#%%\n"
    }
   }
  },
  {
   "cell_type": "code",
   "execution_count": 5,
   "outputs": [],
   "source": [
    "%matplotlib inline\n",
    "\n",
    "import pandas as pd\n",
    "import matplotlib.pyplot as plt\n",
    "import seaborn as sns; sns.set()\n",
    "\n",
    "df = pd.read_csv('blooms_dataset.csv')\n",
    "\n",
    "# removes all punctuations and change to lower case\n",
    "df['Text'] = df['Text'].str.replace(r'[^\\w\\s]+', '', regex=True)\n",
    "df['Text'] = df['Text'].str.lower()\n",
    "\n",
    "df['Label'] = pd.factorize(df.Label)[0]\n",
    "# df['Label'].value_counts()\n",
    "\n",
    "# Change categories into numbers\n",
    "# Analyse - 0\n",
    "# Apply - 1\n",
    "# Create - 2\n",
    "# Evaluate - 3\n",
    "# Remember - 4\n",
    "# Understand - 5\n",
    "\n",
    "# Blooms taxonomy categories\n",
    "categories = ['Analyse', 'Apply', 'Create', 'Evaluate', 'Remember', 'Understand']"
   ],
   "metadata": {
    "collapsed": false,
    "pycharm": {
     "name": "#%%\n"
    }
   }
  },
  {
   "cell_type": "code",
   "execution_count": 6,
   "outputs": [],
   "source": [
    "# add a row of tokenised text\n",
    "df['Tokens'] = df['Text'].apply(spacy_tokenizer)"
   ],
   "metadata": {
    "collapsed": false,
    "pycharm": {
     "name": "#%%\n"
    }
   }
  },
  {
   "cell_type": "code",
   "execution_count": 7,
   "outputs": [],
   "source": [
    "# create sentence vectors by taking average of token vectors\n",
    "df['Vectors'] = df['Tokens'].apply(sentence_vect)\n",
    "\n",
    "# drop all null values after tokenizing as some cells may not have relevant data\n",
    "df = df.dropna(axis=0, subset=['Vectors'])"
   ],
   "metadata": {
    "collapsed": false,
    "pycharm": {
     "name": "#%%\n"
    }
   }
  },
  {
   "cell_type": "code",
   "execution_count": 8,
   "outputs": [],
   "source": [
    "from sklearn.model_selection import train_test_split\n",
    "\n",
    "# X - sentence vectors (Vectors)\n",
    "# Y - blooms category (Label)\n",
    "\n",
    "# split data into training and test set (0.8, 0.2)\n",
    "train, test = train_test_split(df, test_size=0.2)"
   ],
   "metadata": {
    "collapsed": false,
    "pycharm": {
     "name": "#%%\n"
    }
   }
  },
  {
   "cell_type": "markdown",
   "source": [
    "## Model Building"
   ],
   "metadata": {
    "collapsed": false,
    "pycharm": {
     "name": "#%% md\n"
    }
   }
  },
  {
   "cell_type": "code",
   "execution_count": 9,
   "outputs": [
    {
     "name": "stdout",
     "output_type": "stream",
     "text": [
      "              precision    recall  f1-score   support\n",
      "\n",
      "           0       0.84      0.69      0.76       123\n",
      "           1       0.74      0.72      0.73       129\n",
      "           2       0.93      0.75      0.83        92\n",
      "           3       0.86      0.86      0.86       112\n",
      "           4       0.79      0.85      0.82       294\n",
      "           5       0.81      0.85      0.83       485\n",
      "\n",
      "    accuracy                           0.81      1235\n",
      "   macro avg       0.83      0.79      0.80      1235\n",
      "weighted avg       0.82      0.81      0.81      1235\n",
      "\n",
      "Accuracy: 0.8129554655870446\n"
     ]
    },
    {
     "data": {
      "text/plain": "<Figure size 640x480 with 1 Axes>",
      "image/png": "[encoded data removed]"
     },
     "metadata": {},
     "output_type": "display_data"
    }
   ],
   "source": [
    "from sklearn.svm import SVC\n",
    "\n",
    "# model based on Support Vector Machine (non-probabilistic classifier)\n",
    "model = SVC(kernel='linear', gamma='auto', degree=3)\n",
    "\n",
    "# Fit sentence vectors to labels\n",
    "model.fit(list(train.Vectors), train.Label)\n",
    "\n",
    "# Generate blooms label on test set\n",
    "labels = model.predict(list(test.Vectors))\n",
    "\n",
    "\n",
    "# model report\n",
    "from sklearn.metrics import confusion_matrix\n",
    "from sklearn.metrics import accuracy_score\n",
    "from sklearn.metrics import classification_report\n",
    "\n",
    "# Heatmap of model\n",
    "mat = confusion_matrix(test.Label, labels)\n",
    "sns.heatmap(mat.T, square=True, annot=True, fmt='d', cbar=False\n",
    "            , xticklabels=categories\n",
    "            , yticklabels=categories)\n",
    "\n",
    "plt.xlabel('true label')\n",
    "plt.ylabel('predicted label')\n",
    "\n",
    "print(classification_report(test.Label, labels))\n",
    "# Model Accuracy, how often is the classifier correct?\n",
    "\n",
    "acc = accuracy_score(test.Label, labels)\n",
    "print(\"Accuracy:\", acc)"
   ],
   "metadata": {
    "collapsed": false,
    "pycharm": {
     "name": "#%%\n"
    }
   }
  },
  {
   "cell_type": "markdown",
   "source": [
    "## Prediction Testing"
   ],
   "metadata": {
    "collapsed": false,
    "pycharm": {
     "name": "#%% md\n"
    }
   }
  },
  {
   "cell_type": "code",
   "execution_count": 10,
   "outputs": [],
   "source": [
    "category_dict = {0: 'Analyse', 1: 'Apply', 2: 'Create', 3: 'Evaluate', 4: 'Remember', 5: 'Understand'}\n",
    "\n",
    "def predict_blooms(text, model):\n",
    "    process = spacy_tokenizer(text)\n",
    "    process = sentence_vect(process)\n",
    "    blooms = model.predict([process])\n",
    "    print(\"Predicted Class:\", category_dict[blooms[0]])"
   ],
   "metadata": {
    "collapsed": false,
    "pycharm": {
     "name": "#%%\n"
    }
   }
  },
  {
   "cell_type": "code",
   "execution_count": 11,
   "outputs": [
    {
     "name": "stdout",
     "output_type": "stream",
     "text": [
      "['Analyse', 'Apply', 'Create', 'Evaluate', 'Remember', 'Understand'] \n",
      "\n",
      "\n",
      "SVM PREDICTION:\n",
      "Predicted Class: Apply\n"
     ]
    }
   ],
   "source": [
    "print(categories, \"\\n\")\n",
    "\n",
    "task = \"Develop an agile plan for the upcoming project\"\n",
    "\n",
    "print(\"\\nSVM PREDICTION:\")\n",
    "predict_blooms(task, model)"
   ],
   "metadata": {
    "collapsed": false,
    "pycharm": {
     "name": "#%%\n"
    }
   }
  }
 ],
 "metadata": {
  "kernelspec": {
   "display_name": "Python 3",
   "language": "python",
   "name": "python3"
  },
  "language_info": {
   "codemirror_mode": {
    "name": "ipython",
    "version": 2
   },
   "file_extension": ".py",
   "mimetype": "text/x-python",
   "name": "python",
   "nbconvert_exporter": "python",
   "pygments_lexer": "ipython2",
   "version": "2.7.6"
  }
 },
 "nbformat": 4,
 "nbformat_minor": 0
}