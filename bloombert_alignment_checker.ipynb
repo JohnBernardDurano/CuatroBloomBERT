{
 "cells": [
  {
   "cell_type": "markdown",
   "id": "462df2d8",
   "metadata": {},
   "source": [
    "# Load BloomBERT Model"
   ]
  },
  {
   "cell_type": "code",
   "execution_count": null,
   "id": "0e9b45c8",
   "metadata": {},
   "outputs": [],
   "source": [
    "%pip install transformers --quiet"
   ]
  },
  {
   "cell_type": "code",
   "execution_count": 2,
   "id": "38898874",
   "metadata": {},
   "outputs": [
    {
     "data": {
      "text/plain": [
       "BloomBERT(\n",
       "  (bert): DistilBertModel(\n",
       "    (embeddings): Embeddings(\n",
       "      (word_embeddings): Embedding(30522, 768, padding_idx=0)\n",
       "      (position_embeddings): Embedding(512, 768)\n",
       "      (LayerNorm): LayerNorm((768,), eps=1e-12, elementwise_affine=True)\n",
       "      (dropout): Dropout(p=0.1, inplace=False)\n",
       "    )\n",
       "    (transformer): Transformer(\n",
       "      (layer): ModuleList(\n",
       "        (0-5): 6 x TransformerBlock(\n",
       "          (attention): DistilBertSdpaAttention(\n",
       "            (dropout): Dropout(p=0.1, inplace=False)\n",
       "            (q_lin): Linear(in_features=768, out_features=768, bias=True)\n",
       "            (k_lin): Linear(in_features=768, out_features=768, bias=True)\n",
       "            (v_lin): Linear(in_features=768, out_features=768, bias=True)\n",
       "            (out_lin): Linear(in_features=768, out_features=768, bias=True)\n",
       "          )\n",
       "          (sa_layer_norm): LayerNorm((768,), eps=1e-12, elementwise_affine=True)\n",
       "          (ffn): FFN(\n",
       "            (dropout): Dropout(p=0.1, inplace=False)\n",
       "            (lin1): Linear(in_features=768, out_features=3072, bias=True)\n",
       "            (lin2): Linear(in_features=3072, out_features=768, bias=True)\n",
       "            (activation): GELUActivation()\n",
       "          )\n",
       "          (output_layer_norm): LayerNorm((768,), eps=1e-12, elementwise_affine=True)\n",
       "        )\n",
       "      )\n",
       "    )\n",
       "  )\n",
       "  (dropout): Dropout(p=0.3, inplace=False)\n",
       "  (attention): Linear(in_features=768, out_features=1, bias=True)\n",
       "  (classifier): Sequential(\n",
       "    (0): Linear(in_features=768, out_features=128, bias=True)\n",
       "    (1): ReLU()\n",
       "    (2): Dropout(p=0.3, inplace=False)\n",
       "    (3): Linear(in_features=128, out_features=6, bias=True)\n",
       "  )\n",
       ")"
      ]
     },
     "execution_count": 2,
     "metadata": {},
     "output_type": "execute_result"
    }
   ],
   "source": [
    "import torch\n",
    "from src.model.bloombert import BloomBERT\n",
    "\n",
    "config = {\n",
    "    # \"learning_rate\": 1e-5,\n",
    "    # \"batch_size\": 128,\n",
    "    # \"epochs\": 50,\n",
    "    \"device\": torch.device(\"cuda\" if torch.cuda.is_available() else \"cpu\")\n",
    "}\n",
    "\n",
    "# load model\n",
    "best_model = BloomBERT(output_dim=6).to(config[\"device\"])\n",
    "best_model.load_state_dict(torch.load(\"model/bloombert_model.pt\", map_location=config[\"device\"]))\n",
    "best_model.eval()"
   ]
  },
  {
   "cell_type": "code",
   "execution_count": 14,
   "id": "48717a0e",
   "metadata": {},
   "outputs": [],
   "source": [
    "import pandas as pd\n",
    "\n",
    "# Define new mapping from model index to own label\n",
    "category_map = {\n",
    "    0: 1,  # Remember -> 1\n",
    "    1: 2,  # Understand -> 2\n",
    "    2: 3,  # Apply -> 3\n",
    "    3: 4,  # Analyse -> 4\n",
    "    4: 5,  # Evaluate -> 5\n",
    "    5: 6   # Create -> 6\n",
    "}"
   ]
  },
  {
   "cell_type": "code",
   "execution_count": 15,
   "id": "c98ee10a",
   "metadata": {},
   "outputs": [
    {
     "name": "stdout",
     "output_type": "stream",
     "text": [
      "✅ Bloom's classification (per sentence) completed and saved to bloom_classified_output.csv\n"
     ]
    }
   ],
   "source": [
    "import re\n",
    "\n",
    "def split(text):\n",
    "    # Split text into sentences using ., !, ?, or newlines\n",
    "    if not isinstance(text, str):\n",
    "        return []\n",
    "    # Split on . ! ? or newline, keep non-empty\n",
    "    sentences = re.split(r'[.!?]\\s+|\\n+', text)\n",
    "    return [s.strip() for s in sentences if s.strip()]\n",
    "\n",
    "def pred_blooms(text, model, tokenizer, device):\n",
    "    # Treat empty, whitespace, or \"nan\" (from pandas) as blank\n",
    "    if not isinstance(text, str) or not text.strip() or text.strip().lower() == \"nan\":\n",
    "        return 0, [0.0]*6  # blank or not a string or \"nan\"\n",
    "    try:\n",
    "        inputs = tokenizer(text, return_tensors=\"pt\", truncation=True, padding=True, max_length=256)\n",
    "        inputs = {k: v.to(device) for k, v in inputs.items()}\n",
    "        with torch.no_grad():\n",
    "            outputs = model(**inputs)\n",
    "            logits = outputs if isinstance(outputs, torch.Tensor) else outputs[0]\n",
    "            probs = F.softmax(logits, dim=-1).cpu().numpy()[0]\n",
    "            label_idx = probs.argmax()\n",
    "            mapped_label = category_map.get(label_idx, 0)\n",
    "        return mapped_label, probs.tolist()\n",
    "    except Exception:\n",
    "        return 0, [0.0]*6  # fallback for errors\n",
    "\n",
    "# Load CSV\n",
    "df = pd.read_csv(\"\\\\THESIS2\\\\CuatroBloomBERT\\\\csv_files\\\\combined_apc_syllabi_data.csv\")\n",
    "\n",
    "# Columns to classify\n",
    "target_columns = [\"Learning Outcomes\", \"Deliverables\", \"Assessments\"]\n",
    "\n",
    "# Create new columns for predictions (per sentence)\n",
    "for col in target_columns:\n",
    "    all_sentence_labels = []\n",
    "    for cell in df[col].astype(str):\n",
    "        sentences = split(cell)\n",
    "        labels = []\n",
    "        for sent in sentences:\n",
    "            label, _ = pred_blooms(sent, best_model, tokenizer, config[\"device\"])\n",
    "            labels.append(label)\n",
    "        all_sentence_labels.append(labels)\n",
    "    df[f\"{col}_Bloom\"] = all_sentence_labels\n",
    "\n",
    "# Save results\n",
    "df.to_csv(\"bloom_classified_output.csv\", index=False)\n",
    "print(\"✅ Bloom's classification (per sentence) completed and saved to bloom_classified_output.csv\")"
   ]
  }
 ],
 "metadata": {
  "kernelspec": {
   "display_name": "Python 3",
   "language": "python",
   "name": "python3"
  },
  "language_info": {
   "codemirror_mode": {
    "name": "ipython",
    "version": 3
   },
   "file_extension": ".py",
   "mimetype": "text/x-python",
   "name": "python",
   "nbconvert_exporter": "python",
   "pygments_lexer": "ipython3",
   "version": "3.11.9"
  }
 },
 "nbformat": 4,
 "nbformat_minor": 5
}
